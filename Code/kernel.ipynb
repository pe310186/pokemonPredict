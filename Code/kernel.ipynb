{
 "cells": [
  {
   "cell_type": "code",
   "execution_count": 1,
   "metadata": {},
   "outputs": [],
   "source": [
    "import pandas as pd\n"
   ]
  },
  {
   "cell_type": "code",
   "execution_count": 2,
   "metadata": {},
   "outputs": [
    {
     "name": "stderr",
     "output_type": "stream",
     "text": [
      "/usr/local/lib/python3.7/site-packages/IPython/core/interactiveshell.py:3020: DtypeWarning: Columns (49) have mixed types. Specify dtype option on import or set low_memory=False.\n",
      "  interactivity=interactivity, compiler=compiler, result=result)\n"
     ]
    }
   ],
   "source": [
    "df = pd.read_csv('300k.csv')"
   ]
  },
  {
   "cell_type": "code",
   "execution_count": 3,
   "metadata": {},
   "outputs": [],
   "source": [
    "df = df[(df != '?').all(axis=1)]\n",
    "target = df['class']\n",
    "target = pd.get_dummies(target,columns=['class'])\n",
    "# preprocess\n",
    "used_col = ['latitude', 'longitude','appearedTimeOfDay','appearedDayOfWeek','terrainType','closeToWater','continent','temperature','urban','rural','weatherIcon','population density','gymDistanceKm','pokestopDistanceKm' ]\n",
    "for col in df.columns:\n",
    "    if col not in used_col:\n",
    "        del df[col]\n",
    "dummy_cols = ['appearedTimeOfDay', 'appearedDayOfWeek','closeToWater','continent','weatherIcon','terrainType','urban','rural']\n",
    "\n",
    "for i in range(len(dummy_cols)):\n",
    "    df2 = pd.get_dummies(df[dummy_cols[i]])\n",
    "    df = pd.concat([df,df2],axis=1)\n",
    "    del df[dummy_cols[i]]\n",
    "\n",
    "X,y = df.values.astype(float), target.values.astype(float)"
   ]
  },
  {
   "cell_type": "code",
   "execution_count": 4,
   "metadata": {
    "scrolled": true
   },
   "outputs": [
    {
     "name": "stdout",
     "output_type": "stream",
     "text": [
      "latitude\n",
      "longitude\n",
      "temperature\n",
      "gymDistanceKm\n",
      "pokestopDistanceKm\n",
      "afternoon\n",
      "evening\n",
      "morning\n",
      "night\n",
      "Friday\n",
      "Saturday\n",
      "Sunday\n",
      "Thursday\n",
      "Tuesday\n",
      "Wednesday\n",
      "dummy_day\n",
      "False\n",
      "True\n",
      "Africa\n",
      "America\n",
      "America/Argentina\n",
      "America/Indiana\n",
      "America/Kentucky\n",
      "Asia\n",
      "Atlantic\n",
      "Australia\n",
      "Europe\n",
      "Indian\n",
      "Pacific\n",
      "clear-day\n",
      "clear-night\n",
      "cloudy\n",
      "fog\n",
      "partly-cloudy-day\n",
      "partly-cloudy-night\n",
      "rain\n",
      "wind\n",
      "0\n",
      "1\n",
      "2\n",
      "4\n",
      "5\n",
      "7\n",
      "8\n",
      "9\n",
      "10\n",
      "11\n",
      "12\n",
      "13\n",
      "14\n",
      "16\n",
      "False\n",
      "True\n",
      "False\n",
      "True\n"
     ]
    }
   ],
   "source": []
  },
  {
   "cell_type": "code",
   "execution_count": 5,
   "metadata": {},
   "outputs": [],
   "source": [
    "rdf = pd.read_csv('300k.csv')\n"
   ]
  },
  {
   "cell_type": "code",
   "execution_count": 8,
   "metadata": {},
   "outputs": [],
   "source": [
    "mapping = {'afternoon':0,'evening':1,'morning':2,'night':3,'Sunday':0,'Monday':1,'Tuesday':2,'Wednesday':3,'Thursday':4,'Friday':5,'Saturday':6,'dummy_day':7,'False':0,'True':1,'Africa':0,'America':1,'America/Argentina':2,'America/Indiana':3,'America/Kentucky':4,'Asia':5,'Atlantic':6,'Australia':7,'Europe':8,'Indian':9,'Pacific':10,'clear-day':0,'clear-night':1,'cloudy':2,'fog':3,'partly-cloudy-day':4,'partly-cloudy-night':5,'rain':6,'wind':7}\n",
    "used_col = ['latitude', 'longitude','appearedTimeOfDay','appearedDayOfWeek','terrainType','closeToWater','continent','temperature','urban','rural','weatherIcon','population density','gymDistanceKm','pokestopDistanceKm' ]\n",
    "for col in rdf.columns:\n",
    "    if col not in used_col:\n",
    "        del rdf[col]"
   ]
  },
  {
   "cell_type": "code",
   "execution_count": 17,
   "metadata": {},
   "outputs": [],
   "source": [
    "rdf = rdf.applymap(lambda s: mapping.get(s) if s in mapping else s)"
   ]
  },
  {
   "cell_type": "code",
   "execution_count": 19,
   "metadata": {},
   "outputs": [
    {
     "data": {
      "text/plain": [
       "Index(['latitude', 'longitude', 'appearedTimeOfDay', 'appearedDayOfWeek',\n",
       "       'terrainType', 'closeToWater', 'continent', 'temperature',\n",
       "       'weatherIcon', 'urban', 'rural', 'gymDistanceKm', 'pokestopDistanceKm'],\n",
       "      dtype='object')"
      ]
     },
     "execution_count": 19,
     "metadata": {},
     "output_type": "execute_result"
    }
   ],
   "source": [
    "rdf.columns"
   ]
  },
  {
   "cell_type": "code",
   "execution_count": null,
   "metadata": {},
   "outputs": [],
   "source": []
  }
 ],
 "metadata": {
  "kernelspec": {
   "display_name": "Python 3",
   "language": "python",
   "name": "python3"
  },
  "language_info": {
   "codemirror_mode": {
    "name": "ipython",
    "version": 3
   },
   "file_extension": ".py",
   "mimetype": "text/x-python",
   "name": "python",
   "nbconvert_exporter": "python",
   "pygments_lexer": "ipython3",
   "version": "3.7.2"
  }
 },
 "nbformat": 4,
 "nbformat_minor": 2
}
